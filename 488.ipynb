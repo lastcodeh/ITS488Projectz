{
  "nbformat": 4,
  "nbformat_minor": 0,
  "metadata": {
    "colab": {
      "name": "488.ipynb",
      "version": "0.3.2",
      "provenance": []
    },
    "language_info": {
      "codemirror_mode": {
        "name": "ipython",
        "version": 3
      },
      "file_extension": ".py",
      "mimetype": "text/x-python",
      "name": "python",
      "nbconvert_exporter": "python",
      "pygments_lexer": "ipython3",
      "version": "3.6.5"
    },
    "kernelspec": {
      "display_name": "Python 3",
      "language": "python",
      "name": "python3"
    }
  },
  "cells": [
    {
      "cell_type": "markdown",
      "metadata": {
        "id": "vzCvWmMaUVfF",
        "colab_type": "text"
      },
      "source": [
        "# ITS488 : Machine Learning Project > Wine Type and Quality Prediction with ML\n",
        "\n",
        "Presented by\n",
        "\n",
        "5822790416 Nonwarit Suwanmolee\n",
        "\n",
        "5822783411 Panjarat Sukonthachartnant\n",
        "\n",
        "5822792909 Natcha Suttiwattana \n",
        "\n",
        "5922800586 Thanadorn Worraphattarachaya\n"
      ]
    },
    {
      "cell_type": "markdown",
      "metadata": {
        "id": "V1KWg92yUVfH",
        "colab_type": "text"
      },
      "source": [
        "## 1. Importing Packages"
      ]
    },
    {
      "cell_type": "code",
      "metadata": {
        "id": "s2BRoS8gUVfH",
        "colab_type": "code",
        "colab": {}
      },
      "source": [
        "import pandas as pd\n",
        "import numpy as np\n",
        "import pandas_profiling\n",
        "import seaborn as sns\n",
        "import matplotlib.pyplot as plt\n",
        "from sklearn.ensemble import RandomForestClassifier\n",
        "from sklearn.svm import SVC\n",
        "from sklearn.linear_model import SGDClassifier\n",
        "from sklearn.metrics import confusion_matrix, classification_report\n",
        "from sklearn.preprocessing import StandardScaler, LabelEncoder\n",
        "from sklearn.model_selection import train_test_split, GridSearchCV, cross_val_score\n",
        "from sklearn.metrics import mean_squared_error\n",
        "from math import sqrt\n",
        "%matplotlib inline"
      ],
      "execution_count": 0,
      "outputs": []
    },
    {
      "cell_type": "markdown",
      "metadata": {
        "id": "bNsVbwJxUVfL",
        "colab_type": "text"
      },
      "source": [
        "## 2. Data Loading & Discription"
      ]
    },
    {
      "cell_type": "markdown",
      "metadata": {
        "id": "_-_Tyx2yUVfM",
        "colab_type": "text"
      },
      "source": [
        "__Context__\n",
        "- The two datasets are related to red and white variants of the Portuguese wine.\n",
        "- I have downloaded these datasets from UCI Machine Learning Respository.\n",
        "\n",
        "__Content__ <br/>\n",
        "Both datasets contains __12__ variables: <br/>\n",
        " 1. fixed acidity\n",
        " 2. volatile acidity\n",
        " 3. citric acid\n",
        " 4. residual sugar\n",
        " 5. chlorides\n",
        " 6. free sulfur dioxide\n",
        " 7. total sulfur dioxide\n",
        " 8. density\n",
        " 9. pH\n",
        " 10. sulphates\n",
        " 11. alcohol\n",
        " 12. quality (score between 0 - 10)"
      ]
    },
    {
      "cell_type": "markdown",
      "metadata": {
        "id": "WLEpYw93UVfN",
        "colab_type": "text"
      },
      "source": [
        "### 2.1 Loading both datasets"
      ]
    },
    {
      "cell_type": "code",
      "metadata": {
        "id": "h7xusrKkUVfO",
        "colab_type": "code",
        "colab": {}
      },
      "source": [
        "white_wine = pd.read_csv('https://archive.ics.uci.edu/ml/machine-learning-databases/wine-quality/winequality-white.csv',sep=';')\n",
        "red_wine = pd.read_csv('https://archive.ics.uci.edu/ml/machine-learning-databases/wine-quality/winequality-red.csv',sep=';')"
      ],
      "execution_count": 0,
      "outputs": []
    },
    {
      "cell_type": "code",
      "metadata": {
        "id": "EDJ0uYAMUVfR",
        "colab_type": "code",
        "colab": {
          "base_uri": "https://localhost:8080/",
          "height": 34
        },
        "outputId": "d5888834-1a10-43ba-821e-f8f6e92abb8c"
      },
      "source": [
        "# Shape of white wine dataset\n",
        "white_wine.shape"
      ],
      "execution_count": 202,
      "outputs": [
        {
          "output_type": "execute_result",
          "data": {
            "text/plain": [
              "(4898, 12)"
            ]
          },
          "metadata": {
            "tags": []
          },
          "execution_count": 202
        }
      ]
    },
    {
      "cell_type": "code",
      "metadata": {
        "id": "JPysjrQXUVfX",
        "colab_type": "code",
        "colab": {
          "base_uri": "https://localhost:8080/",
          "height": 34
        },
        "outputId": "75f88e75-db08-43e4-c19c-388cceb135df"
      },
      "source": [
        "# Shape of red wine dataset\n",
        "red_wine.shape"
      ],
      "execution_count": 203,
      "outputs": [
        {
          "output_type": "execute_result",
          "data": {
            "text/plain": [
              "(1599, 12)"
            ]
          },
          "metadata": {
            "tags": []
          },
          "execution_count": 203
        }
      ]
    },
    {
      "cell_type": "code",
      "metadata": {
        "id": "ZQLFmGpmUVfb",
        "colab_type": "code",
        "colab": {}
      },
      "source": [
        "# add wines type field\n",
        "white_wine['wine_type'] = 'white'\n",
        "red_wine['wine_type'] = 'red'"
      ],
      "execution_count": 0,
      "outputs": []
    },
    {
      "cell_type": "markdown",
      "metadata": {
        "id": "fLdhuXV0UVfd",
        "colab_type": "text"
      },
      "source": [
        "### 2.2 Merging two datasets"
      ]
    },
    {
      "cell_type": "code",
      "metadata": {
        "id": "Xar9o_XoUVfe",
        "colab_type": "code",
        "colab": {
          "base_uri": "https://localhost:8080/",
          "height": 34
        },
        "outputId": "e72774b2-2f00-4bb4-c89d-a44c9d46a7a7"
      },
      "source": [
        "# we merge both datasets for accurate analysis\n",
        "wine_data = pd.concat([white_wine,red_wine])\n",
        "wine_data.shape"
      ],
      "execution_count": 205,
      "outputs": [
        {
          "output_type": "execute_result",
          "data": {
            "text/plain": [
              "(6497, 13)"
            ]
          },
          "metadata": {
            "tags": []
          },
          "execution_count": 205
        }
      ]
    },
    {
      "cell_type": "markdown",
      "metadata": {
        "id": "hQqhPQpjUVfh",
        "colab_type": "text"
      },
      "source": [
        "## 3. Understanding Data"
      ]
    },
    {
      "cell_type": "code",
      "metadata": {
        "id": "1lJqm8tPUVfi",
        "colab_type": "code",
        "colab": {
          "base_uri": "https://localhost:8080/",
          "height": 84
        },
        "outputId": "d199b9f8-604f-4711-e36e-e5a36044487d"
      },
      "source": [
        "# display column names of data\n",
        "wine_data.columns"
      ],
      "execution_count": 206,
      "outputs": [
        {
          "output_type": "execute_result",
          "data": {
            "text/plain": [
              "Index(['fixed acidity', 'volatile acidity', 'citric acid', 'residual sugar',\n",
              "       'chlorides', 'free sulfur dioxide', 'total sulfur dioxide', 'density',\n",
              "       'pH', 'sulphates', 'alcohol', 'quality', 'wine_type'],\n",
              "      dtype='object')"
            ]
          },
          "metadata": {
            "tags": []
          },
          "execution_count": 206
        }
      ]
    },
    {
      "cell_type": "code",
      "metadata": {
        "id": "9Fng83GUUVfm",
        "colab_type": "code",
        "colab": {}
      },
      "source": [
        "# adding label column which will use for prediction of quality of wine\n",
        "wine_data['quality_label'] = wine_data['quality'].apply(lambda value: 'low'\n",
        "                                                       if value <= 5 else 'medium'\n",
        "                                                       if value <=7 else 'high')"
      ],
      "execution_count": 0,
      "outputs": []
    },
    {
      "cell_type": "code",
      "metadata": {
        "id": "pkyVXSffUVfo",
        "colab_type": "code",
        "colab": {}
      },
      "source": [
        "# change quality_label column in categorical variable\n",
        "wine_data['quality_label'] = pd.Categorical(wine_data['quality_label'], categories = ['low','medium','high'])"
      ],
      "execution_count": 0,
      "outputs": []
    },
    {
      "cell_type": "code",
      "metadata": {
        "id": "SsC994z-UVfr",
        "colab_type": "code",
        "colab": {}
      },
      "source": [
        "# reshuffling the dataset\n",
        "wine_data = wine_data.sample(frac=1,random_state=92).reset_index(drop=True)"
      ],
      "execution_count": 0,
      "outputs": []
    },
    {
      "cell_type": "code",
      "metadata": {
        "id": "rrtS2whKUVfu",
        "colab_type": "code",
        "colab": {
          "base_uri": "https://localhost:8080/",
          "height": 212
        },
        "outputId": "28f8372b-b20d-46e4-fb43-97ae6d512b4e"
      },
      "source": [
        "wine_data.head()"
      ],
      "execution_count": 210,
      "outputs": [
        {
          "output_type": "execute_result",
          "data": {
            "text/html": [
              "<div>\n",
              "<style scoped>\n",
              "    .dataframe tbody tr th:only-of-type {\n",
              "        vertical-align: middle;\n",
              "    }\n",
              "\n",
              "    .dataframe tbody tr th {\n",
              "        vertical-align: top;\n",
              "    }\n",
              "\n",
              "    .dataframe thead th {\n",
              "        text-align: right;\n",
              "    }\n",
              "</style>\n",
              "<table border=\"1\" class=\"dataframe\">\n",
              "  <thead>\n",
              "    <tr style=\"text-align: right;\">\n",
              "      <th></th>\n",
              "      <th>fixed acidity</th>\n",
              "      <th>volatile acidity</th>\n",
              "      <th>citric acid</th>\n",
              "      <th>residual sugar</th>\n",
              "      <th>chlorides</th>\n",
              "      <th>free sulfur dioxide</th>\n",
              "      <th>total sulfur dioxide</th>\n",
              "      <th>density</th>\n",
              "      <th>pH</th>\n",
              "      <th>sulphates</th>\n",
              "      <th>alcohol</th>\n",
              "      <th>quality</th>\n",
              "      <th>wine_type</th>\n",
              "      <th>quality_label</th>\n",
              "    </tr>\n",
              "  </thead>\n",
              "  <tbody>\n",
              "    <tr>\n",
              "      <th>0</th>\n",
              "      <td>7.1</td>\n",
              "      <td>0.320</td>\n",
              "      <td>0.34</td>\n",
              "      <td>14.5</td>\n",
              "      <td>0.039</td>\n",
              "      <td>46.0</td>\n",
              "      <td>150.0</td>\n",
              "      <td>0.99500</td>\n",
              "      <td>3.38</td>\n",
              "      <td>0.50</td>\n",
              "      <td>12.5</td>\n",
              "      <td>8</td>\n",
              "      <td>white</td>\n",
              "      <td>high</td>\n",
              "    </tr>\n",
              "    <tr>\n",
              "      <th>1</th>\n",
              "      <td>6.2</td>\n",
              "      <td>0.785</td>\n",
              "      <td>0.00</td>\n",
              "      <td>2.1</td>\n",
              "      <td>0.060</td>\n",
              "      <td>6.0</td>\n",
              "      <td>13.0</td>\n",
              "      <td>0.99664</td>\n",
              "      <td>3.59</td>\n",
              "      <td>0.61</td>\n",
              "      <td>10.0</td>\n",
              "      <td>4</td>\n",
              "      <td>red</td>\n",
              "      <td>low</td>\n",
              "    </tr>\n",
              "    <tr>\n",
              "      <th>2</th>\n",
              "      <td>6.6</td>\n",
              "      <td>0.260</td>\n",
              "      <td>0.27</td>\n",
              "      <td>11.8</td>\n",
              "      <td>0.048</td>\n",
              "      <td>28.0</td>\n",
              "      <td>112.0</td>\n",
              "      <td>0.99606</td>\n",
              "      <td>2.87</td>\n",
              "      <td>0.49</td>\n",
              "      <td>9.7</td>\n",
              "      <td>6</td>\n",
              "      <td>white</td>\n",
              "      <td>medium</td>\n",
              "    </tr>\n",
              "    <tr>\n",
              "      <th>3</th>\n",
              "      <td>6.8</td>\n",
              "      <td>0.300</td>\n",
              "      <td>0.27</td>\n",
              "      <td>11.6</td>\n",
              "      <td>0.028</td>\n",
              "      <td>22.0</td>\n",
              "      <td>97.0</td>\n",
              "      <td>0.99314</td>\n",
              "      <td>2.96</td>\n",
              "      <td>0.38</td>\n",
              "      <td>11.7</td>\n",
              "      <td>6</td>\n",
              "      <td>white</td>\n",
              "      <td>medium</td>\n",
              "    </tr>\n",
              "    <tr>\n",
              "      <th>4</th>\n",
              "      <td>6.9</td>\n",
              "      <td>0.250</td>\n",
              "      <td>0.29</td>\n",
              "      <td>2.4</td>\n",
              "      <td>0.038</td>\n",
              "      <td>28.0</td>\n",
              "      <td>76.0</td>\n",
              "      <td>0.99088</td>\n",
              "      <td>3.01</td>\n",
              "      <td>0.36</td>\n",
              "      <td>11.7</td>\n",
              "      <td>7</td>\n",
              "      <td>white</td>\n",
              "      <td>medium</td>\n",
              "    </tr>\n",
              "  </tbody>\n",
              "</table>\n",
              "</div>"
            ],
            "text/plain": [
              "   fixed acidity  volatile acidity  citric acid  residual sugar  chlorides  \\\n",
              "0            7.1             0.320         0.34            14.5      0.039   \n",
              "1            6.2             0.785         0.00             2.1      0.060   \n",
              "2            6.6             0.260         0.27            11.8      0.048   \n",
              "3            6.8             0.300         0.27            11.6      0.028   \n",
              "4            6.9             0.250         0.29             2.4      0.038   \n",
              "\n",
              "   free sulfur dioxide  total sulfur dioxide  density    pH  sulphates  \\\n",
              "0                 46.0                 150.0  0.99500  3.38       0.50   \n",
              "1                  6.0                  13.0  0.99664  3.59       0.61   \n",
              "2                 28.0                 112.0  0.99606  2.87       0.49   \n",
              "3                 22.0                  97.0  0.99314  2.96       0.38   \n",
              "4                 28.0                  76.0  0.99088  3.01       0.36   \n",
              "\n",
              "   alcohol  quality wine_type quality_label  \n",
              "0     12.5        8     white          high  \n",
              "1     10.0        4       red           low  \n",
              "2      9.7        6     white        medium  \n",
              "3     11.7        6     white        medium  \n",
              "4     11.7        7     white        medium  "
            ]
          },
          "metadata": {
            "tags": []
          },
          "execution_count": 210
        }
      ]
    },
    {
      "cell_type": "code",
      "metadata": {
        "id": "CxwdriyvUVfz",
        "colab_type": "code",
        "colab": {
          "base_uri": "https://localhost:8080/",
          "height": 212
        },
        "outputId": "ab04fdfe-a14c-4122-ce54-8906c3133304"
      },
      "source": [
        "wine_data.tail()"
      ],
      "execution_count": 211,
      "outputs": [
        {
          "output_type": "execute_result",
          "data": {
            "text/html": [
              "<div>\n",
              "<style scoped>\n",
              "    .dataframe tbody tr th:only-of-type {\n",
              "        vertical-align: middle;\n",
              "    }\n",
              "\n",
              "    .dataframe tbody tr th {\n",
              "        vertical-align: top;\n",
              "    }\n",
              "\n",
              "    .dataframe thead th {\n",
              "        text-align: right;\n",
              "    }\n",
              "</style>\n",
              "<table border=\"1\" class=\"dataframe\">\n",
              "  <thead>\n",
              "    <tr style=\"text-align: right;\">\n",
              "      <th></th>\n",
              "      <th>fixed acidity</th>\n",
              "      <th>volatile acidity</th>\n",
              "      <th>citric acid</th>\n",
              "      <th>residual sugar</th>\n",
              "      <th>chlorides</th>\n",
              "      <th>free sulfur dioxide</th>\n",
              "      <th>total sulfur dioxide</th>\n",
              "      <th>density</th>\n",
              "      <th>pH</th>\n",
              "      <th>sulphates</th>\n",
              "      <th>alcohol</th>\n",
              "      <th>quality</th>\n",
              "      <th>wine_type</th>\n",
              "      <th>quality_label</th>\n",
              "    </tr>\n",
              "  </thead>\n",
              "  <tbody>\n",
              "    <tr>\n",
              "      <th>6492</th>\n",
              "      <td>8.1</td>\n",
              "      <td>0.785</td>\n",
              "      <td>0.52</td>\n",
              "      <td>2.0</td>\n",
              "      <td>0.122</td>\n",
              "      <td>37.0</td>\n",
              "      <td>153.0</td>\n",
              "      <td>0.99690</td>\n",
              "      <td>3.21</td>\n",
              "      <td>0.69</td>\n",
              "      <td>9.3</td>\n",
              "      <td>5</td>\n",
              "      <td>red</td>\n",
              "      <td>low</td>\n",
              "    </tr>\n",
              "    <tr>\n",
              "      <th>6493</th>\n",
              "      <td>6.1</td>\n",
              "      <td>0.250</td>\n",
              "      <td>0.24</td>\n",
              "      <td>12.1</td>\n",
              "      <td>0.046</td>\n",
              "      <td>51.0</td>\n",
              "      <td>172.0</td>\n",
              "      <td>0.99800</td>\n",
              "      <td>3.35</td>\n",
              "      <td>0.45</td>\n",
              "      <td>9.5</td>\n",
              "      <td>5</td>\n",
              "      <td>white</td>\n",
              "      <td>low</td>\n",
              "    </tr>\n",
              "    <tr>\n",
              "      <th>6494</th>\n",
              "      <td>8.5</td>\n",
              "      <td>0.370</td>\n",
              "      <td>0.32</td>\n",
              "      <td>1.8</td>\n",
              "      <td>0.066</td>\n",
              "      <td>26.0</td>\n",
              "      <td>51.0</td>\n",
              "      <td>0.99456</td>\n",
              "      <td>3.38</td>\n",
              "      <td>0.72</td>\n",
              "      <td>11.8</td>\n",
              "      <td>6</td>\n",
              "      <td>red</td>\n",
              "      <td>medium</td>\n",
              "    </tr>\n",
              "    <tr>\n",
              "      <th>6495</th>\n",
              "      <td>6.6</td>\n",
              "      <td>0.230</td>\n",
              "      <td>0.32</td>\n",
              "      <td>1.5</td>\n",
              "      <td>0.041</td>\n",
              "      <td>8.0</td>\n",
              "      <td>72.0</td>\n",
              "      <td>0.98949</td>\n",
              "      <td>3.22</td>\n",
              "      <td>0.39</td>\n",
              "      <td>12.7</td>\n",
              "      <td>6</td>\n",
              "      <td>white</td>\n",
              "      <td>medium</td>\n",
              "    </tr>\n",
              "    <tr>\n",
              "      <th>6496</th>\n",
              "      <td>8.0</td>\n",
              "      <td>0.330</td>\n",
              "      <td>0.32</td>\n",
              "      <td>4.6</td>\n",
              "      <td>0.041</td>\n",
              "      <td>31.0</td>\n",
              "      <td>180.0</td>\n",
              "      <td>0.99184</td>\n",
              "      <td>2.92</td>\n",
              "      <td>0.74</td>\n",
              "      <td>12.2</td>\n",
              "      <td>6</td>\n",
              "      <td>white</td>\n",
              "      <td>medium</td>\n",
              "    </tr>\n",
              "  </tbody>\n",
              "</table>\n",
              "</div>"
            ],
            "text/plain": [
              "      fixed acidity  volatile acidity  citric acid  residual sugar  chlorides  \\\n",
              "6492            8.1             0.785         0.52             2.0      0.122   \n",
              "6493            6.1             0.250         0.24            12.1      0.046   \n",
              "6494            8.5             0.370         0.32             1.8      0.066   \n",
              "6495            6.6             0.230         0.32             1.5      0.041   \n",
              "6496            8.0             0.330         0.32             4.6      0.041   \n",
              "\n",
              "      free sulfur dioxide  total sulfur dioxide  density    pH  sulphates  \\\n",
              "6492                 37.0                 153.0  0.99690  3.21       0.69   \n",
              "6493                 51.0                 172.0  0.99800  3.35       0.45   \n",
              "6494                 26.0                  51.0  0.99456  3.38       0.72   \n",
              "6495                  8.0                  72.0  0.98949  3.22       0.39   \n",
              "6496                 31.0                 180.0  0.99184  2.92       0.74   \n",
              "\n",
              "      alcohol  quality wine_type quality_label  \n",
              "6492      9.3        5       red           low  \n",
              "6493      9.5        5     white           low  \n",
              "6494     11.8        6       red        medium  \n",
              "6495     12.7        6     white        medium  \n",
              "6496     12.2        6     white        medium  "
            ]
          },
          "metadata": {
            "tags": []
          },
          "execution_count": 211
        }
      ]
    },
    {
      "cell_type": "code",
      "metadata": {
        "id": "QZBBm__DUVf3",
        "colab_type": "code",
        "colab": {
          "base_uri": "https://localhost:8080/",
          "height": 336
        },
        "outputId": "0c5c9a47-4a55-4725-ae35-31adb1cdc0b0"
      },
      "source": [
        "# Information about the data\n",
        "wine_data.info()"
      ],
      "execution_count": 212,
      "outputs": [
        {
          "output_type": "stream",
          "text": [
            "<class 'pandas.core.frame.DataFrame'>\n",
            "RangeIndex: 6497 entries, 0 to 6496\n",
            "Data columns (total 14 columns):\n",
            "fixed acidity           6497 non-null float64\n",
            "volatile acidity        6497 non-null float64\n",
            "citric acid             6497 non-null float64\n",
            "residual sugar          6497 non-null float64\n",
            "chlorides               6497 non-null float64\n",
            "free sulfur dioxide     6497 non-null float64\n",
            "total sulfur dioxide    6497 non-null float64\n",
            "density                 6497 non-null float64\n",
            "pH                      6497 non-null float64\n",
            "sulphates               6497 non-null float64\n",
            "alcohol                 6497 non-null float64\n",
            "quality                 6497 non-null int64\n",
            "wine_type               6497 non-null object\n",
            "quality_label           6497 non-null category\n",
            "dtypes: category(1), float64(11), int64(1), object(1)\n",
            "memory usage: 666.4+ KB\n"
          ],
          "name": "stdout"
        }
      ]
    },
    {
      "cell_type": "code",
      "metadata": {
        "id": "s3DEy_RKUVf6",
        "colab_type": "code",
        "colab": {
          "base_uri": "https://localhost:8080/",
          "height": 436
        },
        "outputId": "3a21488c-7a2d-4bec-e970-a78f9b9518c7"
      },
      "source": [
        "# display statistical information of dataset\n",
        "print(\"Number of rows: \", wine_data.shape[0])\n",
        "print(\"Number of columns: \", wine_data.shape[1])\n",
        "\n",
        "df = wine_data.describe()\n",
        "df.drop([\"count\"],axis=0,inplace=True)\n",
        "df.T"
      ],
      "execution_count": 213,
      "outputs": [
        {
          "output_type": "stream",
          "text": [
            "Number of rows:  6497\n",
            "Number of columns:  14\n"
          ],
          "name": "stdout"
        },
        {
          "output_type": "execute_result",
          "data": {
            "text/html": [
              "<div>\n",
              "<style scoped>\n",
              "    .dataframe tbody tr th:only-of-type {\n",
              "        vertical-align: middle;\n",
              "    }\n",
              "\n",
              "    .dataframe tbody tr th {\n",
              "        vertical-align: top;\n",
              "    }\n",
              "\n",
              "    .dataframe thead th {\n",
              "        text-align: right;\n",
              "    }\n",
              "</style>\n",
              "<table border=\"1\" class=\"dataframe\">\n",
              "  <thead>\n",
              "    <tr style=\"text-align: right;\">\n",
              "      <th></th>\n",
              "      <th>mean</th>\n",
              "      <th>std</th>\n",
              "      <th>min</th>\n",
              "      <th>25%</th>\n",
              "      <th>50%</th>\n",
              "      <th>75%</th>\n",
              "      <th>max</th>\n",
              "    </tr>\n",
              "  </thead>\n",
              "  <tbody>\n",
              "    <tr>\n",
              "      <th>fixed acidity</th>\n",
              "      <td>7.215307</td>\n",
              "      <td>1.296434</td>\n",
              "      <td>3.80000</td>\n",
              "      <td>6.40000</td>\n",
              "      <td>7.00000</td>\n",
              "      <td>7.70000</td>\n",
              "      <td>15.90000</td>\n",
              "    </tr>\n",
              "    <tr>\n",
              "      <th>volatile acidity</th>\n",
              "      <td>0.339666</td>\n",
              "      <td>0.164636</td>\n",
              "      <td>0.08000</td>\n",
              "      <td>0.23000</td>\n",
              "      <td>0.29000</td>\n",
              "      <td>0.40000</td>\n",
              "      <td>1.58000</td>\n",
              "    </tr>\n",
              "    <tr>\n",
              "      <th>citric acid</th>\n",
              "      <td>0.318633</td>\n",
              "      <td>0.145318</td>\n",
              "      <td>0.00000</td>\n",
              "      <td>0.25000</td>\n",
              "      <td>0.31000</td>\n",
              "      <td>0.39000</td>\n",
              "      <td>1.66000</td>\n",
              "    </tr>\n",
              "    <tr>\n",
              "      <th>residual sugar</th>\n",
              "      <td>5.443235</td>\n",
              "      <td>4.757804</td>\n",
              "      <td>0.60000</td>\n",
              "      <td>1.80000</td>\n",
              "      <td>3.00000</td>\n",
              "      <td>8.10000</td>\n",
              "      <td>65.80000</td>\n",
              "    </tr>\n",
              "    <tr>\n",
              "      <th>chlorides</th>\n",
              "      <td>0.056034</td>\n",
              "      <td>0.035034</td>\n",
              "      <td>0.00900</td>\n",
              "      <td>0.03800</td>\n",
              "      <td>0.04700</td>\n",
              "      <td>0.06500</td>\n",
              "      <td>0.61100</td>\n",
              "    </tr>\n",
              "    <tr>\n",
              "      <th>free sulfur dioxide</th>\n",
              "      <td>30.525319</td>\n",
              "      <td>17.749400</td>\n",
              "      <td>1.00000</td>\n",
              "      <td>17.00000</td>\n",
              "      <td>29.00000</td>\n",
              "      <td>41.00000</td>\n",
              "      <td>289.00000</td>\n",
              "    </tr>\n",
              "    <tr>\n",
              "      <th>total sulfur dioxide</th>\n",
              "      <td>115.744574</td>\n",
              "      <td>56.521855</td>\n",
              "      <td>6.00000</td>\n",
              "      <td>77.00000</td>\n",
              "      <td>118.00000</td>\n",
              "      <td>156.00000</td>\n",
              "      <td>440.00000</td>\n",
              "    </tr>\n",
              "    <tr>\n",
              "      <th>density</th>\n",
              "      <td>0.994697</td>\n",
              "      <td>0.002999</td>\n",
              "      <td>0.98711</td>\n",
              "      <td>0.99234</td>\n",
              "      <td>0.99489</td>\n",
              "      <td>0.99699</td>\n",
              "      <td>1.03898</td>\n",
              "    </tr>\n",
              "    <tr>\n",
              "      <th>pH</th>\n",
              "      <td>3.218501</td>\n",
              "      <td>0.160787</td>\n",
              "      <td>2.72000</td>\n",
              "      <td>3.11000</td>\n",
              "      <td>3.21000</td>\n",
              "      <td>3.32000</td>\n",
              "      <td>4.01000</td>\n",
              "    </tr>\n",
              "    <tr>\n",
              "      <th>sulphates</th>\n",
              "      <td>0.531268</td>\n",
              "      <td>0.148806</td>\n",
              "      <td>0.22000</td>\n",
              "      <td>0.43000</td>\n",
              "      <td>0.51000</td>\n",
              "      <td>0.60000</td>\n",
              "      <td>2.00000</td>\n",
              "    </tr>\n",
              "    <tr>\n",
              "      <th>alcohol</th>\n",
              "      <td>10.491801</td>\n",
              "      <td>1.192712</td>\n",
              "      <td>8.00000</td>\n",
              "      <td>9.50000</td>\n",
              "      <td>10.30000</td>\n",
              "      <td>11.30000</td>\n",
              "      <td>14.90000</td>\n",
              "    </tr>\n",
              "    <tr>\n",
              "      <th>quality</th>\n",
              "      <td>5.818378</td>\n",
              "      <td>0.873255</td>\n",
              "      <td>3.00000</td>\n",
              "      <td>5.00000</td>\n",
              "      <td>6.00000</td>\n",
              "      <td>6.00000</td>\n",
              "      <td>9.00000</td>\n",
              "    </tr>\n",
              "  </tbody>\n",
              "</table>\n",
              "</div>"
            ],
            "text/plain": [
              "                            mean        std      min       25%        50%  \\\n",
              "fixed acidity           7.215307   1.296434  3.80000   6.40000    7.00000   \n",
              "volatile acidity        0.339666   0.164636  0.08000   0.23000    0.29000   \n",
              "citric acid             0.318633   0.145318  0.00000   0.25000    0.31000   \n",
              "residual sugar          5.443235   4.757804  0.60000   1.80000    3.00000   \n",
              "chlorides               0.056034   0.035034  0.00900   0.03800    0.04700   \n",
              "free sulfur dioxide    30.525319  17.749400  1.00000  17.00000   29.00000   \n",
              "total sulfur dioxide  115.744574  56.521855  6.00000  77.00000  118.00000   \n",
              "density                 0.994697   0.002999  0.98711   0.99234    0.99489   \n",
              "pH                      3.218501   0.160787  2.72000   3.11000    3.21000   \n",
              "sulphates               0.531268   0.148806  0.22000   0.43000    0.51000   \n",
              "alcohol                10.491801   1.192712  8.00000   9.50000   10.30000   \n",
              "quality                 5.818378   0.873255  3.00000   5.00000    6.00000   \n",
              "\n",
              "                            75%        max  \n",
              "fixed acidity           7.70000   15.90000  \n",
              "volatile acidity        0.40000    1.58000  \n",
              "citric acid             0.39000    1.66000  \n",
              "residual sugar          8.10000   65.80000  \n",
              "chlorides               0.06500    0.61100  \n",
              "free sulfur dioxide    41.00000  289.00000  \n",
              "total sulfur dioxide  156.00000  440.00000  \n",
              "density                 0.99699    1.03898  \n",
              "pH                      3.32000    4.01000  \n",
              "sulphates               0.60000    2.00000  \n",
              "alcohol                11.30000   14.90000  \n",
              "quality                 6.00000    9.00000  "
            ]
          },
          "metadata": {
            "tags": []
          },
          "execution_count": 213
        }
      ]
    },
    {
      "cell_type": "code",
      "metadata": {
        "id": "0emFowGIUVf_",
        "colab_type": "code",
        "colab": {
          "base_uri": "https://localhost:8080/",
          "height": 269
        },
        "outputId": "ae69396d-a5de-41ff-da36-cbc5a6f79077"
      },
      "source": [
        "wine_data.isnull().sum()                                                 # This will print count of NaN values in column     "
      ],
      "execution_count": 214,
      "outputs": [
        {
          "output_type": "execute_result",
          "data": {
            "text/plain": [
              "fixed acidity           0\n",
              "volatile acidity        0\n",
              "citric acid             0\n",
              "residual sugar          0\n",
              "chlorides               0\n",
              "free sulfur dioxide     0\n",
              "total sulfur dioxide    0\n",
              "density                 0\n",
              "pH                      0\n",
              "sulphates               0\n",
              "alcohol                 0\n",
              "quality                 0\n",
              "wine_type               0\n",
              "quality_label           0\n",
              "dtype: int64"
            ]
          },
          "metadata": {
            "tags": []
          },
          "execution_count": 214
        }
      ]
    },
    {
      "cell_type": "markdown",
      "metadata": {
        "id": "Hg02Nb5NUVgE",
        "colab_type": "text"
      },
      "source": [
        "#### we can see from above result that there is no NaN values exist"
      ]
    },
    {
      "cell_type": "markdown",
      "metadata": {
        "id": "BG3J2XAnUVgF",
        "colab_type": "text"
      },
      "source": [
        "## 4. Univariate Analysis"
      ]
    },
    {
      "cell_type": "markdown",
      "metadata": {
        "id": "g9m_7UfnUVgG",
        "colab_type": "text"
      },
      "source": [
        "#### This is one of the easiest step in exploratory data analysis. "
      ]
    },
    {
      "cell_type": "code",
      "metadata": {
        "id": "iuAzFv9wUVgH",
        "colab_type": "code",
        "colab": {
          "base_uri": "https://localhost:8080/",
          "height": 815
        },
        "outputId": "34fe5b1f-aaff-44f7-e4be-6f3bfadf2b86"
      },
      "source": [
        "# histogram for univariate analysis\n",
        "red_wine.hist(bins=10, color='#4682B4', edgecolor='#4682B4', linewidth=1.0,\n",
        "              xlabelsize=10, ylabelsize=10, grid=False)    \n",
        "plt.tight_layout(rect=(0, 0, 1.5, 1.5))   \n",
        "rt = plt.suptitle('Red Wine Univariate Plots', x=0.75, y=1.5, fontsize=14)  \n",
        "\n",
        "white_wine.hist(bins=10, color='#4682B4', edgecolor='#4682B4', linewidth=1.0,\n",
        "              xlabelsize=8, ylabelsize=8, grid=False)    \n",
        "plt.tight_layout(rect=(0, 0, 1.2, 1.2))   \n",
        "wt = plt.suptitle('White Wine Univariate Plots', x=0.65, y=1.25, fontsize=14)"
      ],
      "execution_count": 215,
      "outputs": [
        {
          "output_type": "display_data",
          "data": {
            "image/png": "[encoded data removed]",
            "text/plain": [
              "<Figure size 432x288 with 12 Axes>"
            ]
          },
          "metadata": {
            "tags": []
          }
        },
        {
          "output_type": "display_data",
          "data": {
            "image/png": "[encoded data removed]",
            "text/plain": [
              "<Figure size 432x288 with 12 Axes>"
            ]
          },
          "metadata": {
            "tags": []
          }
        }
      ]
    },
    {
      "cell_type": "markdown",
      "metadata": {
        "id": "emez1yPdUVgL",
        "colab_type": "text"
      },
      "source": [
        "#### we can draw some insights from above plots"
      ]
    },
    {
      "cell_type": "code",
      "metadata": {
        "id": "W3qFZC3yUVgM",
        "colab_type": "code",
        "colab": {
          "base_uri": "https://localhost:8080/",
          "height": 308
        },
        "outputId": "7f7e4ea0-e4d5-46bf-ad55-66a554367df2"
      },
      "source": [
        "# plotting the residual sugar\n",
        "fig = plt.figure(figsize = (10,4))\n",
        "title = fig.suptitle(\"Residual Sugar Content in Wine\", fontsize=14)\n",
        "fig.subplots_adjust(top=0.85, wspace=0.3)\n",
        "\n",
        "ax1 = fig.add_subplot(1,2, 1)\n",
        "ax1.set_title(\"Red Wine\")\n",
        "ax1.set_xlabel(\"Residual Sugar\")\n",
        "ax1.set_ylabel(\"Frequency\") \n",
        "ax1.set_ylim([0, 2500])\n",
        "ax1.text(8, 1000, r'$\\mu$='+str(round(red_wine['residual sugar'].mean(),2)), \n",
        "         fontsize=12)\n",
        "r_freq, r_bins, r_patches = ax1.hist(red_wine['residual sugar'], color='#4682B4', bins=15,\n",
        "                                    edgecolor='black', linewidth=1)\n",
        "\n",
        "ax2 = fig.add_subplot(1,2, 2)\n",
        "ax2.set_title(\"White Wine\")\n",
        "ax2.set_xlabel(\"Residual Sugar\")\n",
        "ax2.set_ylabel(\"Frequency\")\n",
        "ax2.set_ylim([0, 2500])\n",
        "ax2.text(30, 1000, r'$\\mu$='+str(round(white_wine['residual sugar'].mean(),2)), \n",
        "         fontsize=12)\n",
        "w_freq, w_bins, w_patches = ax2.hist(white_wine['residual sugar'], color='#4682B4', bins=15,\n",
        "                                    edgecolor='black', linewidth=1)"
      ],
      "execution_count": 216,
      "outputs": [
        {
          "output_type": "display_data",
          "data": {
            "image/png": "[encoded data removed]",
            "text/plain": [
              "<Figure size 720x288 with 2 Axes>"
            ]
          },
          "metadata": {
            "tags": []
          }
        }
      ]
    },
    {
      "cell_type": "markdown",
      "metadata": {
        "id": "zFhdgzQbUVgP",
        "colab_type": "text"
      },
      "source": [
        "#### here we can see that residual sugar content in white wine samples seems to be more as compared to red wine samples  "
      ]
    },
    {
      "cell_type": "code",
      "metadata": {
        "id": "OJVhAzbMUVgQ",
        "colab_type": "code",
        "colab": {
          "base_uri": "https://localhost:8080/",
          "height": 308
        },
        "outputId": "f3aabd07-7211-4f37-af68-9d01cb940dc2"
      },
      "source": [
        "# checking Sulphates content in wine\n",
        "fig = plt.figure(figsize = (10,4))\n",
        "title = fig.suptitle(\"Sulphates Content in Wine\", fontsize=14)\n",
        "fig.subplots_adjust(top=0.85, wspace=0.3)\n",
        "\n",
        "ax1 = fig.add_subplot(1,2, 1)\n",
        "ax1.set_title(\"Red Wine\")\n",
        "ax1.set_xlabel(\"Sulphates\")\n",
        "ax1.set_ylabel(\"Frequency\") \n",
        "ax1.set_ylim([0, 1200])\n",
        "ax1.text(1.2, 800, r'$\\mu$='+str(round(red_wine['sulphates'].mean(),2)), \n",
        "         fontsize=12)\n",
        "r_freq, r_bins, r_patches = ax1.hist(red_wine['sulphates'], color='#4682B4', bins=15,\n",
        "                                    edgecolor='black', linewidth=1)\n",
        "\n",
        "ax2 = fig.add_subplot(1,2, 2)\n",
        "ax2.set_title(\"White Wine\")\n",
        "ax2.set_xlabel(\"Sulphates\")\n",
        "ax2.set_ylabel(\"Frequency\")\n",
        "ax2.set_ylim([0, 1200])\n",
        "ax2.text(0.8, 800, r'$\\mu$='+str(round(white_wine['sulphates'].mean(),2)), \n",
        "         fontsize=12)\n",
        "w_freq, w_bins, w_patches = ax2.hist(white_wine['sulphates'], color='#4682B4', bins=15,\n",
        "                                    edgecolor='black', linewidth=1)"
      ],
      "execution_count": 217,
      "outputs": [
        {
          "output_type": "display_data",
          "data": {
            "image/png": "[encoded data removed]",
            "text/plain": [
              "<Figure size 720x288 with 2 Axes>"
            ]
          },
          "metadata": {
            "tags": []
          }
        }
      ]
    },
    {
      "cell_type": "markdown",
      "metadata": {
        "id": "ka01wlxQUVgV",
        "colab_type": "text"
      },
      "source": [
        "#### here we can see that the sulphate content in white wine seems to be higher as compare to red wine.  "
      ]
    },
    {
      "cell_type": "markdown",
      "metadata": {
        "id": "WxC9ew3TUVgV",
        "colab_type": "text"
      },
      "source": [
        "## 5. Multivariate Analysis"
      ]
    },
    {
      "cell_type": "markdown",
      "metadata": {
        "id": "tb89F9BJUVgW",
        "colab_type": "text"
      },
      "source": [
        "#### Multivariate analysis is used to analyze multiple variables and their relationships."
      ]
    },
    {
      "cell_type": "code",
      "metadata": {
        "id": "QiQIEZV4UVgX",
        "colab_type": "code",
        "colab": {
          "base_uri": "https://localhost:8080/",
          "height": 501
        },
        "outputId": "b8c26db0-dcbe-4566-cae8-bc4d882391b0"
      },
      "source": [
        "f, ax = plt.subplots(figsize=(12, 6))\n",
        "corr = wine_data.corr()\n",
        "hm = sns.heatmap(round(corr,2), annot=True, ax=ax, cmap=\"Blues\",fmt='.2f',\n",
        "            linewidths=.05)\n",
        "f.subplots_adjust(top=0.93)\n",
        "t= f.suptitle('Wine Attributes Correlation Heatmap', fontsize=14)"
      ],
      "execution_count": 218,
      "outputs": [
        {
          "output_type": "display_data",
          "data": {
            "image/png": "[encoded data removed]",
            "text/plain": [
              "<Figure size 864x432 with 2 Axes>"
            ]
          },
          "metadata": {
            "tags": []
          }
        }
      ]
    },
    {
      "cell_type": "markdown",
      "metadata": {
        "id": "BI3qE0oVUVgZ",
        "colab_type": "text"
      },
      "source": [
        "#### here we can see that a strong negative correlation between density and alcohol and a strong positive correlation between total and free sulfur dioxide."
      ]
    },
    {
      "cell_type": "markdown",
      "metadata": {
        "id": "04xG1JgQUVga",
        "colab_type": "text"
      },
      "source": [
        "## 6. Predictive Analysis"
      ]
    },
    {
      "cell_type": "markdown",
      "metadata": {
        "id": "wuACOfgBUVgb",
        "colab_type": "text"
      },
      "source": [
        "__Now here we would create different models on this dataset and compare their accuracy.__\n",
        "\n",
        "Here we will do two types of prediction in this dataset.\n",
        " 1. Prediction of wine types.\n",
        " 2. Prediction of wine quality."
      ]
    },
    {
      "cell_type": "code",
      "metadata": {
        "id": "tIpo7dNZUVgb",
        "colab_type": "code",
        "colab": {}
      },
      "source": [
        "# importing libraries\n",
        "from sklearn.model_selection import train_test_split\n",
        "from collections import Counter\n",
        "from sklearn.preprocessing import StandardScaler\n",
        "from sklearn.preprocessing import LabelEncoder\n",
        "from sklearn.metrics import classification_report\n",
        "from sklearn.metrics import confusion_matrix\n",
        "from sklearn.metrics import accuracy_score\n",
        "from sklearn.metrics import roc_auc_score"
      ],
      "execution_count": 0,
      "outputs": []
    },
    {
      "cell_type": "code",
      "metadata": {
        "id": "4i0ICHaNUVge",
        "colab_type": "code",
        "colab": {
          "base_uri": "https://localhost:8080/",
          "height": 212
        },
        "outputId": "c515539a-cea9-4183-edaf-35597d18e191"
      },
      "source": [
        "wine_data.head()"
      ],
      "execution_count": 220,
      "outputs": [
        {
          "output_type": "execute_result",
          "data": {
            "text/html": [
              "<div>\n",
              "<style scoped>\n",
              "    .dataframe tbody tr th:only-of-type {\n",
              "        vertical-align: middle;\n",
              "    }\n",
              "\n",
              "    .dataframe tbody tr th {\n",
              "        vertical-align: top;\n",
              "    }\n",
              "\n",
              "    .dataframe thead th {\n",
              "        text-align: right;\n",
              "    }\n",
              "</style>\n",
              "<table border=\"1\" class=\"dataframe\">\n",
              "  <thead>\n",
              "    <tr style=\"text-align: right;\">\n",
              "      <th></th>\n",
              "      <th>fixed acidity</th>\n",
              "      <th>volatile acidity</th>\n",
              "      <th>citric acid</th>\n",
              "      <th>residual sugar</th>\n",
              "      <th>chlorides</th>\n",
              "      <th>free sulfur dioxide</th>\n",
              "      <th>total sulfur dioxide</th>\n",
              "      <th>density</th>\n",
              "      <th>pH</th>\n",
              "      <th>sulphates</th>\n",
              "      <th>alcohol</th>\n",
              "      <th>quality</th>\n",
              "      <th>wine_type</th>\n",
              "      <th>quality_label</th>\n",
              "    </tr>\n",
              "  </thead>\n",
              "  <tbody>\n",
              "    <tr>\n",
              "      <th>0</th>\n",
              "      <td>7.1</td>\n",
              "      <td>0.320</td>\n",
              "      <td>0.34</td>\n",
              "      <td>14.5</td>\n",
              "      <td>0.039</td>\n",
              "      <td>46.0</td>\n",
              "      <td>150.0</td>\n",
              "      <td>0.99500</td>\n",
              "      <td>3.38</td>\n",
              "      <td>0.50</td>\n",
              "      <td>12.5</td>\n",
              "      <td>8</td>\n",
              "      <td>white</td>\n",
              "      <td>high</td>\n",
              "    </tr>\n",
              "    <tr>\n",
              "      <th>1</th>\n",
              "      <td>6.2</td>\n",
              "      <td>0.785</td>\n",
              "      <td>0.00</td>\n",
              "      <td>2.1</td>\n",
              "      <td>0.060</td>\n",
              "      <td>6.0</td>\n",
              "      <td>13.0</td>\n",
              "      <td>0.99664</td>\n",
              "      <td>3.59</td>\n",
              "      <td>0.61</td>\n",
              "      <td>10.0</td>\n",
              "      <td>4</td>\n",
              "      <td>red</td>\n",
              "      <td>low</td>\n",
              "    </tr>\n",
              "    <tr>\n",
              "      <th>2</th>\n",
              "      <td>6.6</td>\n",
              "      <td>0.260</td>\n",
              "      <td>0.27</td>\n",
              "      <td>11.8</td>\n",
              "      <td>0.048</td>\n",
              "      <td>28.0</td>\n",
              "      <td>112.0</td>\n",
              "      <td>0.99606</td>\n",
              "      <td>2.87</td>\n",
              "      <td>0.49</td>\n",
              "      <td>9.7</td>\n",
              "      <td>6</td>\n",
              "      <td>white</td>\n",
              "      <td>medium</td>\n",
              "    </tr>\n",
              "    <tr>\n",
              "      <th>3</th>\n",
              "      <td>6.8</td>\n",
              "      <td>0.300</td>\n",
              "      <td>0.27</td>\n",
              "      <td>11.6</td>\n",
              "      <td>0.028</td>\n",
              "      <td>22.0</td>\n",
              "      <td>97.0</td>\n",
              "      <td>0.99314</td>\n",
              "      <td>2.96</td>\n",
              "      <td>0.38</td>\n",
              "      <td>11.7</td>\n",
              "      <td>6</td>\n",
              "      <td>white</td>\n",
              "      <td>medium</td>\n",
              "    </tr>\n",
              "    <tr>\n",
              "      <th>4</th>\n",
              "      <td>6.9</td>\n",
              "      <td>0.250</td>\n",
              "      <td>0.29</td>\n",
              "      <td>2.4</td>\n",
              "      <td>0.038</td>\n",
              "      <td>28.0</td>\n",
              "      <td>76.0</td>\n",
              "      <td>0.99088</td>\n",
              "      <td>3.01</td>\n",
              "      <td>0.36</td>\n",
              "      <td>11.7</td>\n",
              "      <td>7</td>\n",
              "      <td>white</td>\n",
              "      <td>medium</td>\n",
              "    </tr>\n",
              "  </tbody>\n",
              "</table>\n",
              "</div>"
            ],
            "text/plain": [
              "   fixed acidity  volatile acidity  citric acid  residual sugar  chlorides  \\\n",
              "0            7.1             0.320         0.34            14.5      0.039   \n",
              "1            6.2             0.785         0.00             2.1      0.060   \n",
              "2            6.6             0.260         0.27            11.8      0.048   \n",
              "3            6.8             0.300         0.27            11.6      0.028   \n",
              "4            6.9             0.250         0.29             2.4      0.038   \n",
              "\n",
              "   free sulfur dioxide  total sulfur dioxide  density    pH  sulphates  \\\n",
              "0                 46.0                 150.0  0.99500  3.38       0.50   \n",
              "1                  6.0                  13.0  0.99664  3.59       0.61   \n",
              "2                 28.0                 112.0  0.99606  2.87       0.49   \n",
              "3                 22.0                  97.0  0.99314  2.96       0.38   \n",
              "4                 28.0                  76.0  0.99088  3.01       0.36   \n",
              "\n",
              "   alcohol  quality wine_type quality_label  \n",
              "0     12.5        8     white          high  \n",
              "1     10.0        4       red           low  \n",
              "2      9.7        6     white        medium  \n",
              "3     11.7        6     white        medium  \n",
              "4     11.7        7     white        medium  "
            ]
          },
          "metadata": {
            "tags": []
          },
          "execution_count": 220
        }
      ]
    },
    {
      "cell_type": "code",
      "metadata": {
        "id": "4qIPGOO6UVgj",
        "colab_type": "code",
        "colab": {}
      },
      "source": [
        "# input variables data\n",
        "X = wine_data.iloc[:,:-3]"
      ],
      "execution_count": 0,
      "outputs": []
    },
    {
      "cell_type": "code",
      "metadata": {
        "id": "xDXcGAc7UVgl",
        "colab_type": "code",
        "colab": {
          "base_uri": "https://localhost:8080/",
          "height": 84
        },
        "outputId": "dd9fa694-4e90-4962-e28a-c68f596d55c8"
      },
      "source": [
        "X.columns"
      ],
      "execution_count": 222,
      "outputs": [
        {
          "output_type": "execute_result",
          "data": {
            "text/plain": [
              "Index(['fixed acidity', 'volatile acidity', 'citric acid', 'residual sugar',\n",
              "       'chlorides', 'free sulfur dioxide', 'total sulfur dioxide', 'density',\n",
              "       'pH', 'sulphates', 'alcohol'],\n",
              "      dtype='object')"
            ]
          },
          "metadata": {
            "tags": []
          },
          "execution_count": 222
        }
      ]
    },
    {
      "cell_type": "code",
      "metadata": {
        "id": "hXdIIoLHUVgp",
        "colab_type": "code",
        "colab": {
          "base_uri": "https://localhost:8080/",
          "height": 286
        },
        "outputId": "77384bd3-e25c-4ef3-ed9e-c99c43728de3"
      },
      "source": [
        "X.info()"
      ],
      "execution_count": 223,
      "outputs": [
        {
          "output_type": "stream",
          "text": [
            "<class 'pandas.core.frame.DataFrame'>\n",
            "RangeIndex: 6497 entries, 0 to 6496\n",
            "Data columns (total 11 columns):\n",
            "fixed acidity           6497 non-null float64\n",
            "volatile acidity        6497 non-null float64\n",
            "citric acid             6497 non-null float64\n",
            "residual sugar          6497 non-null float64\n",
            "chlorides               6497 non-null float64\n",
            "free sulfur dioxide     6497 non-null float64\n",
            "total sulfur dioxide    6497 non-null float64\n",
            "density                 6497 non-null float64\n",
            "pH                      6497 non-null float64\n",
            "sulphates               6497 non-null float64\n",
            "alcohol                 6497 non-null float64\n",
            "dtypes: float64(11)\n",
            "memory usage: 558.4 KB\n"
          ],
          "name": "stdout"
        }
      ]
    },
    {
      "cell_type": "markdown",
      "metadata": {
        "id": "mm0pmxAkUVgs",
        "colab_type": "text"
      },
      "source": [
        "#### we can see that there are no missing values in any input variables"
      ]
    },
    {
      "cell_type": "markdown",
      "metadata": {
        "id": "ByvMkr1PUVgs",
        "colab_type": "text"
      },
      "source": [
        "### 6.1 Prediction for wine type"
      ]
    },
    {
      "cell_type": "code",
      "metadata": {
        "id": "GJb9DStZUVgt",
        "colab_type": "code",
        "colab": {}
      },
      "source": [
        "# class variable for wine type\n",
        "wine_data['wine_type'] = np.where(wine_data['wine_type']=='red',1,0)"
      ],
      "execution_count": 0,
      "outputs": []
    },
    {
      "cell_type": "code",
      "metadata": {
        "id": "QQ5toNdbUVgw",
        "colab_type": "code",
        "colab": {}
      },
      "source": [
        "# output/response variable\n",
        "y = wine_data['wine_type']"
      ],
      "execution_count": 0,
      "outputs": []
    },
    {
      "cell_type": "code",
      "metadata": {
        "id": "pBfGi-YBUVgz",
        "colab_type": "code",
        "colab": {
          "base_uri": "https://localhost:8080/",
          "height": 118
        },
        "outputId": "075aaffc-0151-413e-d698-f7d971b17323"
      },
      "source": [
        "# here 1 represents red wine type and 0 represents white wine type \n",
        "y.head()"
      ],
      "execution_count": 226,
      "outputs": [
        {
          "output_type": "execute_result",
          "data": {
            "text/plain": [
              "0    0\n",
              "1    1\n",
              "2    0\n",
              "3    0\n",
              "4    0\n",
              "Name: wine_type, dtype: int64"
            ]
          },
          "metadata": {
            "tags": []
          },
          "execution_count": 226
        }
      ]
    },
    {
      "cell_type": "code",
      "metadata": {
        "id": "qjQaYpkEUVg2",
        "colab_type": "code",
        "colab": {}
      },
      "source": [
        "# splitting the data into training and test\n",
        "X_train, X_test, y_train, y_test = train_test_split(X, y, test_size = 0.30)"
      ],
      "execution_count": 0,
      "outputs": []
    },
    {
      "cell_type": "code",
      "metadata": {
        "id": "j4nBSnmnUVg3",
        "colab_type": "code",
        "colab": {
          "base_uri": "https://localhost:8080/",
          "height": 34
        },
        "outputId": "08957ed4-6007-4380-be69-3ed332c47122"
      },
      "source": [
        "X_train.shape"
      ],
      "execution_count": 228,
      "outputs": [
        {
          "output_type": "execute_result",
          "data": {
            "text/plain": [
              "(4547, 11)"
            ]
          },
          "metadata": {
            "tags": []
          },
          "execution_count": 228
        }
      ]
    },
    {
      "cell_type": "code",
      "metadata": {
        "id": "J6L6zmHmUVg6",
        "colab_type": "code",
        "colab": {
          "base_uri": "https://localhost:8080/",
          "height": 34
        },
        "outputId": "2bcb1d3a-6279-4e4b-8686-3cdc30820eef"
      },
      "source": [
        "y_train.shape"
      ],
      "execution_count": 229,
      "outputs": [
        {
          "output_type": "execute_result",
          "data": {
            "text/plain": [
              "(4547,)"
            ]
          },
          "metadata": {
            "tags": []
          },
          "execution_count": 229
        }
      ]
    },
    {
      "cell_type": "code",
      "metadata": {
        "id": "25SUzTKUUVg9",
        "colab_type": "code",
        "colab": {}
      },
      "source": [
        "# scaling the features\n",
        "S =StandardScaler()\n",
        "X_train_s = S.fit_transform(X_train)\n",
        "X_test_s  = S.fit_transform(X_test)"
      ],
      "execution_count": 0,
      "outputs": []
    },
    {
      "cell_type": "code",
      "metadata": {
        "id": "c0k6jFFAUVg-",
        "colab_type": "code",
        "colab": {
          "base_uri": "https://localhost:8080/",
          "height": 235
        },
        "outputId": "15b04498-7fb3-4dbe-d08a-4ef0736d7ab1"
      },
      "source": [
        "X_train_s"
      ],
      "execution_count": 231,
      "outputs": [
        {
          "output_type": "execute_result",
          "data": {
            "text/plain": [
              "array([[-0.17022383, -1.09405453,  0.00548883, ..., -0.06154589,\n",
              "        -1.30024831, -1.08684437],\n",
              "       [-0.94605477, -1.03320198, -0.75080516, ..., -0.8662437 ,\n",
              "         0.04369974, -0.58483578],\n",
              "       [-0.24780692, -0.18126621,  0.14299683, ...,  1.48594992,\n",
              "         0.58127896,  0.5028495 ],\n",
              "       ...,\n",
              "       [ 1.53660425, -0.36382387,  0.96804481, ..., -0.49484471,\n",
              "         0.31248935, -0.83584007],\n",
              "       [ 2.31243519,  0.12299657,  2.20561679, ...,  0.06225378,\n",
              "         0.85006857,  1.67420289],\n",
              "       [-0.24780692, -0.66808665,  0.07424283, ...,  1.23835059,\n",
              "        -0.76266909, -0.58483578]])"
            ]
          },
          "metadata": {
            "tags": []
          },
          "execution_count": 231
        }
      ]
    },
    {
      "cell_type": "markdown",
      "metadata": {
        "id": "vKZUQQ9QUVhB",
        "colab_type": "text"
      },
      "source": [
        "### Building model using Logistic Regression"
      ]
    },
    {
      "cell_type": "code",
      "metadata": {
        "id": "IEir3IWPUVhB",
        "colab_type": "code",
        "colab": {
          "base_uri": "https://localhost:8080/",
          "height": 84
        },
        "outputId": "793c1314-7fd3-42e9-932c-ba988c9fa479"
      },
      "source": [
        "from sklearn.linear_model import LogisticRegression\n",
        "lr = LogisticRegression(max_iter = 1500, solver = 'lbfgs')\n",
        "lr.fit(X_train_s, y_train)"
      ],
      "execution_count": 232,
      "outputs": [
        {
          "output_type": "execute_result",
          "data": {
            "text/plain": [
              "LogisticRegression(C=1.0, class_weight=None, dual=False, fit_intercept=True,\n",
              "          intercept_scaling=1, max_iter=1500, multi_class='warn',\n",
              "          n_jobs=None, penalty='l2', random_state=None, solver='lbfgs',\n",
              "          tol=0.0001, verbose=0, warm_start=False)"
            ]
          },
          "metadata": {
            "tags": []
          },
          "execution_count": 232
        }
      ]
    },
    {
      "cell_type": "code",
      "metadata": {
        "id": "Hw1NPevbUVhG",
        "colab_type": "code",
        "colab": {}
      },
      "source": [
        "y_pred = lr.predict(X_test_s)"
      ],
      "execution_count": 0,
      "outputs": []
    },
    {
      "cell_type": "code",
      "metadata": {
        "id": "gXrbi2yhUVhI",
        "colab_type": "code",
        "colab": {
          "base_uri": "https://localhost:8080/",
          "height": 34
        },
        "outputId": "c7642d85-8338-4e30-8f35-40ee97c3d33f"
      },
      "source": [
        "# accuracy\n",
        "print(\"Accuracy: \", accuracy_score(y_test,y_pred))"
      ],
      "execution_count": 234,
      "outputs": [
        {
          "output_type": "stream",
          "text": [
            "Accuracy:  0.9953846153846154\n"
          ],
          "name": "stdout"
        }
      ]
    },
    {
      "cell_type": "code",
      "metadata": {
        "id": "LSQ7rmk-UVhM",
        "colab_type": "code",
        "colab": {
          "base_uri": "https://localhost:8080/",
          "height": 50
        },
        "outputId": "4341d82b-7a40-4d7b-d053-6211321ff6fa"
      },
      "source": [
        "# confusion matrix\n",
        "confusion_matrix(y_test, y_pred)"
      ],
      "execution_count": 235,
      "outputs": [
        {
          "output_type": "execute_result",
          "data": {
            "text/plain": [
              "array([[1482,    5],\n",
              "       [   4,  459]])"
            ]
          },
          "metadata": {
            "tags": []
          },
          "execution_count": 235
        }
      ]
    },
    {
      "cell_type": "code",
      "metadata": {
        "id": "V2nMaPnnUVhO",
        "colab_type": "code",
        "colab": {
          "base_uri": "https://localhost:8080/",
          "height": 168
        },
        "outputId": "2a80c826-9d78-4c38-a079-444d4ad9c211"
      },
      "source": [
        "# classification report\n",
        "print(classification_report(y_test,y_pred), end = \"\\n\")"
      ],
      "execution_count": 236,
      "outputs": [
        {
          "output_type": "stream",
          "text": [
            "              precision    recall  f1-score   support\n",
            "\n",
            "           0       1.00      1.00      1.00      1487\n",
            "           1       0.99      0.99      0.99       463\n",
            "\n",
            "   micro avg       1.00      1.00      1.00      1950\n",
            "   macro avg       0.99      0.99      0.99      1950\n",
            "weighted avg       1.00      1.00      1.00      1950\n",
            "\n"
          ],
          "name": "stdout"
        }
      ]
    },
    {
      "cell_type": "markdown",
      "metadata": {
        "id": "vgz4_5BWUVhS",
        "colab_type": "text"
      },
      "source": [
        "### Building model using Random Forest classification"
      ]
    },
    {
      "cell_type": "code",
      "metadata": {
        "id": "bX7OpPfQUVhS",
        "colab_type": "code",
        "colab": {}
      },
      "source": [
        "from sklearn.ensemble import RandomForestClassifier\n",
        "rf  = RandomForestClassifier(n_estimators=500)\n",
        "rf.fit(X_train_s,y_train)\n",
        "y_pred = rf.predict(X_test_s)"
      ],
      "execution_count": 0,
      "outputs": []
    },
    {
      "cell_type": "code",
      "metadata": {
        "id": "ZK73MueYUVhV",
        "colab_type": "code",
        "colab": {
          "base_uri": "https://localhost:8080/",
          "height": 269
        },
        "outputId": "8d4b16fd-1517-499c-8829-dcdc05579539"
      },
      "source": [
        "# printing accuracy, confusion matrix and classification report\n",
        "print(\"Accuracy: \",accuracy_score(y_test, y_pred))\n",
        "print()\n",
        "print(\"Confusion Matrix: \\n\", confusion_matrix(y_test,y_pred))\n",
        "print()\n",
        "print(classification_report(y_test, y_pred),end = \"\\n\")"
      ],
      "execution_count": 238,
      "outputs": [
        {
          "output_type": "stream",
          "text": [
            "Accuracy:  0.9964102564102564\n",
            "\n",
            "Confusion Matrix: \n",
            " [[1484    3]\n",
            " [   4  459]]\n",
            "\n",
            "              precision    recall  f1-score   support\n",
            "\n",
            "           0       1.00      1.00      1.00      1487\n",
            "           1       0.99      0.99      0.99       463\n",
            "\n",
            "   micro avg       1.00      1.00      1.00      1950\n",
            "   macro avg       1.00      0.99      1.00      1950\n",
            "weighted avg       1.00      1.00      1.00      1950\n",
            "\n"
          ],
          "name": "stdout"
        }
      ]
    },
    {
      "cell_type": "markdown",
      "metadata": {
        "id": "QJdhU5fqUVhb",
        "colab_type": "text"
      },
      "source": [
        "#### we saw that accuracies in both models are comparable, so any model can be used, __Logistic Regression__ is preferred here because it is simple to implement. "
      ]
    },
    {
      "cell_type": "markdown",
      "metadata": {
        "id": "z-zlSY2OUVhb",
        "colab_type": "text"
      },
      "source": [
        "### 6.2 Prediction for wine quality"
      ]
    },
    {
      "cell_type": "markdown",
      "metadata": {
        "id": "p7r_2zvkUVhc",
        "colab_type": "text"
      },
      "source": [
        "The prediction of wine quality will be among three classes __low, medium and high__ "
      ]
    },
    {
      "cell_type": "code",
      "metadata": {
        "id": "aUqLalIlUVhc",
        "colab_type": "code",
        "colab": {}
      },
      "source": [
        "# input variables\n",
        "XX = wine_data.iloc[:,:-3]\n",
        "class_labels = np.array(wine_data['quality_label'])\n",
        "label_names = ['low','medium','high']\n",
        "XX_names = list(XX.columns)"
      ],
      "execution_count": 0,
      "outputs": []
    },
    {
      "cell_type": "code",
      "metadata": {
        "id": "LUGGwM28UVhe",
        "colab_type": "code",
        "colab": {}
      },
      "source": [
        "# spliting data into training and test\n",
        "X_train, X_test, y_train, y_test = train_test_split(XX, class_labels, test_size = 0.30, random_state = 35)"
      ],
      "execution_count": 0,
      "outputs": []
    },
    {
      "cell_type": "code",
      "metadata": {
        "id": "y1i4-VniUVhg",
        "colab_type": "code",
        "colab": {
          "base_uri": "https://localhost:8080/",
          "height": 34
        },
        "outputId": "9022f517-0a74-4011-8943-f181cc23a99a"
      },
      "source": [
        "# printing counter of train and test data for response variable with wine quality category\n",
        "print(Counter(y_train), Counter(y_test))"
      ],
      "execution_count": 241,
      "outputs": [
        {
          "output_type": "stream",
          "text": [
            "Counter({'medium': 2744, 'low': 1664, 'high': 139}) Counter({'medium': 1171, 'low': 720, 'high': 59})\n"
          ],
          "name": "stdout"
        }
      ]
    },
    {
      "cell_type": "code",
      "metadata": {
        "id": "nnc9IMivUVhj",
        "colab_type": "code",
        "colab": {}
      },
      "source": [
        "# scaling the features\n",
        "ss = StandardScaler().fit(X_train)\n",
        "X_train_s = ss.transform(X_train)\n",
        "X_test_s  = ss.transform(X_test)"
      ],
      "execution_count": 0,
      "outputs": []
    },
    {
      "cell_type": "markdown",
      "metadata": {
        "id": "o09ycXVbUVhm",
        "colab_type": "text"
      },
      "source": [
        "#### Building model using Decision Tree Classification"
      ]
    },
    {
      "cell_type": "code",
      "metadata": {
        "id": "UkzBjdyJUVhn",
        "colab_type": "code",
        "colab": {
          "base_uri": "https://localhost:8080/",
          "height": 118
        },
        "outputId": "dda3ed4c-a2e6-4ce5-9418-80bcc3edd610"
      },
      "source": [
        "from sklearn.tree import DecisionTreeClassifier\n",
        "\n",
        "dt = DecisionTreeClassifier()\n",
        "dt.fit(X_train_s, y_train)"
      ],
      "execution_count": 243,
      "outputs": [
        {
          "output_type": "execute_result",
          "data": {
            "text/plain": [
              "DecisionTreeClassifier(class_weight=None, criterion='gini', max_depth=None,\n",
              "            max_features=None, max_leaf_nodes=None,\n",
              "            min_impurity_decrease=0.0, min_impurity_split=None,\n",
              "            min_samples_leaf=1, min_samples_split=2,\n",
              "            min_weight_fraction_leaf=0.0, presort=False, random_state=None,\n",
              "            splitter='best')"
            ]
          },
          "metadata": {
            "tags": []
          },
          "execution_count": 243
        }
      ]
    },
    {
      "cell_type": "code",
      "metadata": {
        "id": "D3r55iPiUVhs",
        "colab_type": "code",
        "colab": {}
      },
      "source": [
        "# prediction for wine quality\n",
        "y_pred = dt.predict(X_test_s)"
      ],
      "execution_count": 0,
      "outputs": []
    },
    {
      "cell_type": "code",
      "metadata": {
        "id": "CVdZuY0lUVhw",
        "colab_type": "code",
        "colab": {
          "base_uri": "https://localhost:8080/",
          "height": 319
        },
        "outputId": "281b658b-d993-46c1-b355-44b4e3e2c8c5"
      },
      "source": [
        "# printing accuracy, confusion matrix and classification report\n",
        "\n",
        "print(\"Accuracy: \", accuracy_score(y_test, y_pred))\n",
        "print()\n",
        "print(\"Confusion Matrix: \\n\", confusion_matrix(y_test, y_pred))\n",
        "print()\n",
        "print(\"Classification Report: \\n\", classification_report(y_test, y_pred))"
      ],
      "execution_count": 245,
      "outputs": [
        {
          "output_type": "stream",
          "text": [
            "Accuracy:  0.7302564102564103\n",
            "\n",
            "Confusion Matrix: \n",
            " [[ 20   5  34]\n",
            " [  2 491 227]\n",
            " [ 32 226 913]]\n",
            "\n",
            "Classification Report: \n",
            "               precision    recall  f1-score   support\n",
            "\n",
            "        high       0.37      0.34      0.35        59\n",
            "         low       0.68      0.68      0.68       720\n",
            "      medium       0.78      0.78      0.78      1171\n",
            "\n",
            "   micro avg       0.73      0.73      0.73      1950\n",
            "   macro avg       0.61      0.60      0.60      1950\n",
            "weighted avg       0.73      0.73      0.73      1950\n",
            "\n"
          ],
          "name": "stdout"
        }
      ]
    },
    {
      "cell_type": "markdown",
      "metadata": {
        "id": "i6aBF3r_UVhz",
        "colab_type": "text"
      },
      "source": [
        "here we can see that recall for the high quality wine is bad because a lot of them have been misclassified into medium and low quality. This is expected since we do not have a sufficient training samples for high quality wine as displayed earlier. "
      ]
    },
    {
      "cell_type": "markdown",
      "metadata": {
        "id": "-k2gq2i3UVhz",
        "colab_type": "text"
      },
      "source": [
        "#### Building model using Random Forest "
      ]
    },
    {
      "cell_type": "code",
      "metadata": {
        "id": "eF-hZ0DYUVh0",
        "colab_type": "code",
        "colab": {
          "base_uri": "https://localhost:8080/",
          "height": 34
        },
        "outputId": "0d7e99bf-d050-459c-cc95-28f89ef9f64d"
      },
      "source": [
        "# finding best parameters by using GridSearchCV \n",
        "from sklearn.model_selection import GridSearchCV\n",
        "\n",
        "param_grid = {'n_estimators': [100, 200, 300, 500], 'max_features': ['auto', None, 'log2']}\n",
        "\n",
        "clf = GridSearchCV(RandomForestClassifier(random_state=38), param_grid, cv=5,\n",
        "                       scoring='accuracy')\n",
        "clf.fit(X_train_s, y_train)\n",
        "print(clf.best_params_)"
      ],
      "execution_count": 246,
      "outputs": [
        {
          "output_type": "stream",
          "text": [
            "{'max_features': 'auto', 'n_estimators': 300}\n"
          ],
          "name": "stdout"
        }
      ]
    },
    {
      "cell_type": "code",
      "metadata": {
        "id": "hcWBn2YvUVh3",
        "colab_type": "code",
        "colab": {}
      },
      "source": [
        "# predicting by model\n",
        "rf = RandomForestClassifier(n_estimators=500, max_features='auto', random_state=38)\n",
        "rf.fit(X_train_s, y_train)\n",
        "\n",
        "y_pred= rf.predict(X_test_s)"
      ],
      "execution_count": 0,
      "outputs": []
    },
    {
      "cell_type": "code",
      "metadata": {
        "id": "cSxJfORJUVh5",
        "colab_type": "code",
        "colab": {
          "base_uri": "https://localhost:8080/",
          "height": 319
        },
        "outputId": "08df9867-6df1-444d-9d8e-98400bf45939"
      },
      "source": [
        "# printing accuracy, confusion matrix and classification report\n",
        "\n",
        "print(\"Accuracy: \", accuracy_score(y_test, y_pred))\n",
        "print()\n",
        "print(\"Confusion Matrix: \\n\", confusion_matrix(y_test, y_pred))\n",
        "print()\n",
        "print(\"Classification Report: \\n\", classification_report(y_test, y_pred))"
      ],
      "execution_count": 248,
      "outputs": [
        {
          "output_type": "stream",
          "text": [
            "Accuracy:  0.8061538461538461\n",
            "\n",
            "Confusion Matrix: \n",
            " [[  19    0   40]\n",
            " [   0  503  217]\n",
            " [   0  121 1050]]\n",
            "\n",
            "Classification Report: \n",
            "               precision    recall  f1-score   support\n",
            "\n",
            "        high       1.00      0.32      0.49        59\n",
            "         low       0.81      0.70      0.75       720\n",
            "      medium       0.80      0.90      0.85      1171\n",
            "\n",
            "   micro avg       0.81      0.81      0.81      1950\n",
            "   macro avg       0.87      0.64      0.69      1950\n",
            "weighted avg       0.81      0.81      0.80      1950\n",
            "\n"
          ],
          "name": "stdout"
        }
      ]
    },
    {
      "cell_type": "markdown",
      "metadata": {
        "id": "NzQ_C-lZUVh8",
        "colab_type": "text"
      },
      "source": [
        "here we obtained accuracy of 80% which is better than Decision Tree, hence Random Forest is much better than the Decision Tree model. \n",
        "\n",
        "---\n",
        "\n"
      ]
    },
    {
      "cell_type": "markdown",
      "metadata": {
        "id": "1D6A_wrJUVh8",
        "colab_type": "text"
      },
      "source": [
        "## 7. Conclusion"
      ]
    },
    {
      "cell_type": "markdown",
      "metadata": {
        "id": "rsvgT5mtUVh9",
        "colab_type": "text"
      },
      "source": [
        "#### Here we explred various components of exploratory data analysis and model building. In our analysis the Random Forest model performed better than the other models. "
      ]
    },
    {
      "cell_type": "code",
      "metadata": {
        "id": "rfQzez_Wn0J-",
        "colab_type": "code",
        "colab": {}
      },
      "source": [
        ""
      ],
      "execution_count": 0,
      "outputs": []
    }
  ]
}